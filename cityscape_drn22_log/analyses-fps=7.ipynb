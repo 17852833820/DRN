{
 "cells": [
  {
   "cell_type": "code",
   "execution_count": 1,
   "metadata": {},
   "outputs": [
    {
     "name": "stdout",
     "output_type": "stream",
     "text": [
      "time: 0, acc:57.93204307556152, size : 34.739889705882355\n",
      "time: 1, acc:26.377271203433764, size : 29.277056525735293\n",
      "time: 2, acc:18.74365245594698, size : 30.07766544117647\n",
      "time: 3, acc:14.212313820334042, size : 29.5556640625\n",
      "time: 4, acc:42.16428364024443, size : 28.913832720588236\n",
      "time: 5, acc:53.06860138388241, size : 28.942440257352942\n",
      "time: 6, acc:71.52017425088322, size : 29.06784237132353\n",
      "time: 7, acc:57.88769721984863, size : 29.767463235294116\n",
      "time: 8, acc:53.917699701645795, size : 30.117991727941178\n",
      "time: 9, acc:18.45531183130601, size : 31.189568014705884\n",
      "time: 10, acc:17.72649147931267, size : 31.555606617647058\n",
      "time: 11, acc:45.551608590518725, size : 31.405101102941178\n",
      "time: 12, acc:44.099030775182385, size : 32.57232306985294\n",
      "time: 13, acc:66.92393527311437, size : 32.721335018382355\n",
      "time: 14, acc:69.35897153966567, size : 31.436925551470587\n",
      "time: 15, acc:52.45155727162081, size : 31.9501953125\n",
      "time: 16, acc:72.16139400706572, size : 31.190659466911764\n",
      "time: 17, acc:62.600778130924, size : 32.79986213235294\n",
      "time: 18, acc:28.383496228386374, size : 32.69088924632353\n",
      "time: 19, acc:48.19405499626608, size : 31.90481387867647\n",
      "time: 20, acc:25.6072577308206, size : 31.665211397058822\n",
      "time: 21, acc:26.670113731833066, size : 31.443933823529413\n",
      "time: 22, acc:19.595707164091223, size : 31.449161305147058\n",
      "time: 23, acc:30.46746534459731, size : 32.755974264705884\n",
      "time: 24, acc:30.606864480411303, size : 34.1682559742647\n",
      "time: 25, acc:24.072086109834558, size : 34.512522977941174\n",
      "time: 26, acc:17.355980592615463, size : 32.427389705882355\n",
      "time: 27, acc:13.97222350625431, size : 30.89125689338235\n",
      "time: 28, acc:60.00687935773064, size : 30.608800551470587\n",
      "time: 29, acc:94.84779694501091, size : 30.481330422794116\n",
      "time: 30, acc:98.4026824726778, size : 30.87057674632353\n",
      "time: 31, acc:98.32272529602051, size : 31.428998161764707\n",
      "time: 32, acc:97.97017153571633, size : 32.511891084558826\n",
      "time: 33, acc:98.35543632507324, size : 32.024586397058826\n",
      "time: 34, acc:91.42015401054832, size : 33.69582950367647\n",
      "Average Acc:50.2645213138281\n",
      "Average size:31.56208100740818\n"
     ]
    }
   ],
   "source": [
    "\"\"\"\n",
    "rate= 10000 qp2=qp2*0.18\n",
    "I frame qp=20\n",
    "            self.tables1Y = torch.load('./pth/jpeg_qtables.pth')[5:35]\n",
    "            self.tables1U = torch.load('./pth/jpeg_qtables.pth')[0:30]\n",
    "            self.tables1V = torch.load('./pth/jpeg_qtables.pth')[0:30]\n",
    "\"\"\"\n",
    "import numpy as np\n",
    "B=0.001\n",
    "fps=7.0\n",
    "filename=\"fps={0}/test-B={1}-fps={2}.log\".format(int(fps),B,fps)\n",
    "file = open(filename, 'r')\n",
    "line=0\n",
    "loss_data=[]\n",
    "second_data=[]\n",
    "V_data=[]\n",
    "for eachline in file:\n",
    "  if eachline.find(\"Loss\") >= 0 and line>0:\n",
    "      loss_data.append(eachline)\n",
    "  if eachline.find(\"compressed size\") >= 0 and line>0:\n",
    "      V_data.append(eachline)\n",
    "  if eachline.find(\"Average Acc\") >=0 :\n",
    "    second_data.append(eachline)\n",
    "  line+=1\n",
    "file.close()\n",
    "# every second average\n",
    "second_acc=[]\n",
    "second_size=[]\n",
    "for info in second_data:\n",
    "    info=info.split(\" \")\n",
    "    second_acc.append(info[2])\n",
    "    second_acc.append(info[5])\n",
    "    print(\"time: {0}, acc:{1}, size : {2}\".format(info[27].strip('\\n'),info[8],info[16]))\n",
    "loss=[]\n",
    "acc=[]\n",
    "V=[]\n",
    "index=0\n",
    "# 599 average\n",
    "for info in loss_data:\n",
    "    info=info.split(\" \")[4].split(\",\")\n",
    "    acc.append(float(info[1].split(\":\")[1]))\n",
    "    index+=1\n",
    "average_acc=np.mean(np.abs(np.array(acc)))\n",
    "print(\"Average Acc:{0}\".format(average_acc))\n",
    "index=0\n",
    "for info in V_data:\n",
    "    info=info.split(\",\")\n",
    "    V.append(float(info[-2].split(\":\")[1]))\n",
    "    index+=1\n",
    "average_V=np.mean(np.abs(np.array(V)))\n",
    "print(\"Average size:{0}\".format(average_V))"
   ]
  }
 ],
 "metadata": {
  "kernelspec": {
   "display_name": "Python 3.10.6 ('drn')",
   "language": "python",
   "name": "python3"
  },
  "language_info": {
   "codemirror_mode": {
    "name": "ipython",
    "version": 3
   },
   "file_extension": ".py",
   "mimetype": "text/x-python",
   "name": "python",
   "nbconvert_exporter": "python",
   "pygments_lexer": "ipython3",
   "version": "3.10.6"
  },
  "orig_nbformat": 4,
  "vscode": {
   "interpreter": {
    "hash": "2682e79027f8ad9e531b36c363c8bbb54c070afdbc5e8a43e40eaac174f86b9b"
   }
  }
 },
 "nbformat": 4,
 "nbformat_minor": 2
}

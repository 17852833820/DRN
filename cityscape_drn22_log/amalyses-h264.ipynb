{
 "cells": [
  {
   "cell_type": "code",
   "execution_count": 1,
   "metadata": {},
   "outputs": [
    {
     "name": "stdout",
     "output_type": "stream",
     "text": [
      "Average  Acc:94.70340333916309\n"
     ]
    }
   ],
   "source": [
    "\"\"\"ANALYSES h254\"\"\"\n",
    "import numpy as np\n",
    "filename=\"./H264/QP=20.log\"\n",
    "file = open(filename, 'r')\n",
    "line=0\n",
    "loss_data=[]\n",
    "for eachline in file:\n",
    "  if eachline.find(\"Acc\") >= 0 and line>0:\n",
    "      loss_data.append(eachline)\n",
    "  line+=1\n",
    "file.close()\n",
    "acc=[]\n",
    "index=0\n",
    "for info in loss_data:\n",
    "    info=info.split(\" \")[4].split(\",\")\n",
    "    acc.append(float(info[1].split(\":\")[1]))\n",
    "    index+=1\n",
    "average_acc=np.mean(np.abs(np.array(acc)))\n",
    "print(\"Average  Acc:{0}\".format(average_acc))"
   ]
  },
  {
   "cell_type": "code",
   "execution_count": 25,
   "metadata": {},
   "outputs": [
    {
     "name": "stdout",
     "output_type": "stream",
     "text": [
      "Average  Acc:56.93806710346712\n"
     ]
    }
   ],
   "source": [
    "\"\"\"ANALYSES h254\"\"\"\n",
    "import numpy as np\n",
    "filename=\"./H264/QP=35.log\"\n",
    "file = open(filename, 'r')\n",
    "line=0\n",
    "loss_data=[]\n",
    "for eachline in file:\n",
    "  if eachline.find(\"Acc\") >= 0 and line>0:\n",
    "      loss_data.append(eachline)\n",
    "  line+=1\n",
    "file.close()\n",
    "acc=[]\n",
    "index=0\n",
    "for info in loss_data:\n",
    "    info=info.split(\" \")[4].split(\",\")\n",
    "    acc.append(float(info[1].split(\":\")[1]))\n",
    "    index+=1\n",
    "average_acc=np.mean(np.abs(np.array(acc)))\n",
    "print(\"Average  Acc:{0}\".format(average_acc))"
   ]
  },
  {
   "cell_type": "code",
   "execution_count": 26,
   "metadata": {},
   "outputs": [
    {
     "name": "stdout",
     "output_type": "stream",
     "text": [
      "Average  Acc:98.96449851671323\n"
     ]
    }
   ],
   "source": [
    "\"\"\"ANALYSES h254\"\"\"\n",
    "import numpy as np\n",
    "filename=\"./H264/QP=1.log\"\n",
    "file = open(filename, 'r')\n",
    "line=0\n",
    "loss_data=[]\n",
    "for eachline in file:\n",
    "  if eachline.find(\"Acc\") >= 0 and line>0:\n",
    "      loss_data.append(eachline)\n",
    "  line+=1\n",
    "file.close()\n",
    "acc=[]\n",
    "index=0\n",
    "for info in loss_data:\n",
    "    info=info.split(\" \")[4].split(\",\")\n",
    "    acc.append(float(info[1].split(\":\")[1]))\n",
    "    index+=1\n",
    "average_acc=np.mean(np.abs(np.array(acc)))\n",
    "print(\"Average  Acc:{0}\".format(average_acc))"
   ]
  },
  {
   "cell_type": "code",
   "execution_count": 27,
   "metadata": {},
   "outputs": [
    {
     "name": "stdout",
     "output_type": "stream",
     "text": [
      "Average  Acc:98.82891174150826\n"
     ]
    }
   ],
   "source": [
    "\"\"\"ANALYSES h254\"\"\"\n",
    "import numpy as np\n",
    "filename=\"./H264/QP=5.log\"\n",
    "file = open(filename, 'r')\n",
    "line=0\n",
    "loss_data=[]\n",
    "for eachline in file:\n",
    "  if eachline.find(\"Acc\") >= 0 and line>0:\n",
    "      loss_data.append(eachline)\n",
    "  line+=1\n",
    "file.close()\n",
    "acc=[]\n",
    "index=0\n",
    "for info in loss_data:\n",
    "    info=info.split(\" \")[4].split(\",\")\n",
    "    acc.append(float(info[1].split(\":\")[1]))\n",
    "    index+=1\n",
    "average_acc=np.mean(np.abs(np.array(acc)))\n",
    "print(\"Average  Acc:{0}\".format(average_acc))"
   ]
  },
  {
   "cell_type": "code",
   "execution_count": 28,
   "metadata": {},
   "outputs": [
    {
     "name": "stdout",
     "output_type": "stream",
     "text": [
      "Average  Acc:98.47837338264478\n"
     ]
    }
   ],
   "source": [
    "\"\"\"ANALYSES h254\"\"\"\n",
    "import numpy as np\n",
    "filename=\"./H264/QP=10.log\"\n",
    "file = open(filename, 'r')\n",
    "line=0\n",
    "loss_data=[]\n",
    "for eachline in file:\n",
    "  if eachline.find(\"Acc\") >= 0 and line>0:\n",
    "      loss_data.append(eachline)\n",
    "  line+=1\n",
    "file.close()\n",
    "acc=[]\n",
    "index=0\n",
    "for info in loss_data:\n",
    "    info=info.split(\" \")[4].split(\",\")\n",
    "    acc.append(float(info[1].split(\":\")[1]))\n",
    "    index+=1\n",
    "average_acc=np.mean(np.abs(np.array(acc)))\n",
    "print(\"Average  Acc:{0}\".format(average_acc))"
   ]
  },
  {
   "cell_type": "code",
   "execution_count": 29,
   "metadata": {},
   "outputs": [
    {
     "name": "stdout",
     "output_type": "stream",
     "text": [
      "Average  Acc:97.61858543688945\n"
     ]
    }
   ],
   "source": [
    "\"\"\"ANALYSES h254\"\"\"\n",
    "import numpy as np\n",
    "filename=\"./H264/QP=15.log\"\n",
    "file = open(filename, 'r')\n",
    "line=0\n",
    "loss_data=[]\n",
    "for eachline in file:\n",
    "  if eachline.find(\"Acc\") >= 0 and line>0:\n",
    "      loss_data.append(eachline)\n",
    "  line+=1\n",
    "file.close()\n",
    "acc=[]\n",
    "index=0\n",
    "for info in loss_data:\n",
    "    info=info.split(\" \")[4].split(\",\")\n",
    "    acc.append(float(info[1].split(\":\")[1]))\n",
    "    index+=1\n",
    "average_acc=np.mean(np.abs(np.array(acc)))\n",
    "print(\"Average  Acc:{0}\".format(average_acc))"
   ]
  },
  {
   "cell_type": "code",
   "execution_count": 30,
   "metadata": {},
   "outputs": [
    {
     "name": "stdout",
     "output_type": "stream",
     "text": [
      "Average  Acc:85.8946568579825\n"
     ]
    }
   ],
   "source": [
    "\"\"\"ANALYSES h254\"\"\"\n",
    "import numpy as np\n",
    "filename=\"./H264/QP=25.log\"\n",
    "file = open(filename, 'r')\n",
    "line=0\n",
    "loss_data=[]\n",
    "for eachline in file:\n",
    "  if eachline.find(\"Acc\") >= 0 and line>0:\n",
    "      loss_data.append(eachline)\n",
    "  line+=1\n",
    "file.close()\n",
    "acc=[]\n",
    "index=0\n",
    "for info in loss_data:\n",
    "    info=info.split(\" \")[4].split(\",\")\n",
    "    acc.append(float(info[1].split(\":\")[1]))\n",
    "    index+=1\n",
    "average_acc=np.mean(np.abs(np.array(acc)))\n",
    "print(\"Average  Acc:{0}\".format(average_acc))"
   ]
  },
  {
   "cell_type": "code",
   "execution_count": 31,
   "metadata": {},
   "outputs": [
    {
     "name": "stdout",
     "output_type": "stream",
     "text": [
      "Average  Acc:73.79356974950417\n"
     ]
    }
   ],
   "source": [
    "\"\"\"ANALYSES h254\"\"\"\n",
    "import numpy as np\n",
    "filename=\"./H264/QP=30.log\"\n",
    "file = open(filename, 'r')\n",
    "line=0\n",
    "loss_data=[]\n",
    "for eachline in file:\n",
    "  if eachline.find(\"Acc\") >= 0 and line>0:\n",
    "      loss_data.append(eachline)\n",
    "  line+=1\n",
    "file.close()\n",
    "acc=[]\n",
    "index=0\n",
    "for info in loss_data:\n",
    "    info=info.split(\" \")[4].split(\",\")\n",
    "    acc.append(float(info[1].split(\":\")[1]))\n",
    "    index+=1\n",
    "average_acc=np.mean(np.abs(np.array(acc)))\n",
    "print(\"Average  Acc:{0}\".format(average_acc))"
   ]
  },
  {
   "cell_type": "code",
   "execution_count": 32,
   "metadata": {},
   "outputs": [
    {
     "name": "stdout",
     "output_type": "stream",
     "text": [
      "Average  Acc:41.4188081712675\n"
     ]
    }
   ],
   "source": [
    "\"\"\"ANALYSES h254\"\"\"\n",
    "import numpy as np\n",
    "filename=\"./H264/QP=40.log\"\n",
    "file = open(filename, 'r')\n",
    "line=0\n",
    "loss_data=[]\n",
    "for eachline in file:\n",
    "  if eachline.find(\"Acc\") >= 0 and line>0:\n",
    "      loss_data.append(eachline)\n",
    "  line+=1\n",
    "file.close()\n",
    "acc=[]\n",
    "index=0\n",
    "for info in loss_data:\n",
    "    info=info.split(\" \")[4].split(\",\")\n",
    "    acc.append(float(info[1].split(\":\")[1]))\n",
    "    index+=1\n",
    "average_acc=np.mean(np.abs(np.array(acc)))\n",
    "print(\"Average  Acc:{0}\".format(average_acc))"
   ]
  },
  {
   "cell_type": "code",
   "execution_count": 33,
   "metadata": {},
   "outputs": [
    {
     "name": "stdout",
     "output_type": "stream",
     "text": [
      "Average  Acc:32.95481224887956\n"
     ]
    }
   ],
   "source": [
    "\"\"\"ANALYSES h254\"\"\"\n",
    "import numpy as np\n",
    "filename=\"./H264/QP=45.log\"\n",
    "file = open(filename, 'r')\n",
    "line=0\n",
    "loss_data=[]\n",
    "for eachline in file:\n",
    "  if eachline.find(\"Acc\") >= 0 and line>0:\n",
    "      loss_data.append(eachline)\n",
    "  line+=1\n",
    "file.close()\n",
    "acc=[]\n",
    "index=0\n",
    "for info in loss_data:\n",
    "    info=info.split(\" \")[4].split(\",\")\n",
    "    acc.append(float(info[1].split(\":\")[1]))\n",
    "    index+=1\n",
    "average_acc=np.mean(np.abs(np.array(acc)))\n",
    "print(\"Average  Acc:{0}\".format(average_acc))"
   ]
  },
  {
   "cell_type": "code",
   "execution_count": 37,
   "metadata": {},
   "outputs": [
    {
     "name": "stdout",
     "output_type": "stream",
     "text": [
      "Average  Acc:30.527677997722847\n"
     ]
    }
   ],
   "source": [
    "\"\"\"ANALYSES h254\"\"\"\n",
    "import numpy as np\n",
    "filename=\"./H264/QP=50.log\"\n",
    "file = open(filename, 'r')\n",
    "line=0\n",
    "loss_data=[]\n",
    "for eachline in file:\n",
    "  if eachline.find(\"Acc\") >= 0 and line>0:\n",
    "      loss_data.append(eachline)\n",
    "  line+=1\n",
    "file.close()\n",
    "acc=[]\n",
    "index=0\n",
    "for info in loss_data:\n",
    "    info=info.split(\" \")[4].split(\",\")\n",
    "    acc.append(float(info[1].split(\":\")[1]))\n",
    "    index+=1\n",
    "average_acc=np.mean(np.abs(np.array(acc)))\n",
    "print(\"Average  Acc:{0}\".format(average_acc))"
   ]
  },
  {
   "cell_type": "code",
   "execution_count": 39,
   "metadata": {},
   "outputs": [
    {
     "name": "stdout",
     "output_type": "stream",
     "text": [
      "Average  Acc:28.895978656953485\n"
     ]
    }
   ],
   "source": [
    "\"\"\"ANALYSES h254\"\"\"\n",
    "import numpy as np\n",
    "filename=\"./H264/QP=52.log\"\n",
    "file = open(filename, 'r')\n",
    "line=0\n",
    "loss_data=[]\n",
    "for eachline in file:\n",
    "  if line>3*34:\n",
    "    break\n",
    "  if eachline.find(\"Acc\") >= 0 and line>0:\n",
    "      loss_data.append(eachline)\n",
    "  line+=1\n",
    "file.close()\n",
    "acc=[]\n",
    "index=0\n",
    "for info in loss_data:\n",
    "    info=info.split(\" \")[4].split(\",\")\n",
    "    acc.append(float(info[1].split(\":\")[1]))\n",
    "    index+=1\n",
    "average_acc=np.mean(np.abs(np.array(acc)))\n",
    "print(\"Average  Acc:{0}\".format(average_acc))"
   ]
  },
  {
   "cell_type": "code",
   "execution_count": 12,
   "metadata": {},
   "outputs": [
    {
     "name": "stdout",
     "output_type": "stream",
     "text": [
      "Average  Acc:98.96450305422877\n"
     ]
    }
   ],
   "source": [
    "\"\"\"ANALYSES h254\"\"\"\n",
    "import numpy as np\n",
    "filename=\"./H264/gop=34_QP=1.log\"\n",
    "file = open(filename, 'r')\n",
    "line=0\n",
    "loss_data=[]\n",
    "for eachline in file:\n",
    "  if eachline.find(\"Acc\") >= 0 and line>0:\n",
    "      loss_data.append(eachline)\n",
    "  line+=1\n",
    "file.close()\n",
    "acc=[]\n",
    "index=0\n",
    "for info in loss_data:\n",
    "    info=info.split(\" \")[4].split(\",\")\n",
    "    acc.append(float(info[1].split(\":\")[1]))\n",
    "    index+=1\n",
    "average_acc=np.mean(np.abs(np.array(acc)))\n",
    "print(\"Average  Acc:{0}\".format(average_acc))"
   ]
  },
  {
   "cell_type": "code",
   "execution_count": 7,
   "metadata": {},
   "outputs": [
    {
     "name": "stdout",
     "output_type": "stream",
     "text": [
      "Average Acc:71.52624971726361\n",
      "Average size:83.73928653492646\n"
     ]
    }
   ],
   "source": [
    "\n",
    "import numpy as np\n",
    "filename=\"H264/h264-qp=50.log\"\n",
    "file = open(filename, 'r')\n",
    "line=0\n",
    "loss_data=[]\n",
    "second_data=[]\n",
    "V_data=[]\n",
    "for eachline in file:\n",
    "  if line>3*34:\n",
    "    break\n",
    "  if eachline.find(\"Loss\") >= 0 and line>0:\n",
    "      loss_data.append(eachline)\n",
    "  if eachline.find(\"compressed size\") >= 0 and line>0:\n",
    "      V_data.append(eachline)\n",
    "  if eachline.find(\"Average Acc\") >=0 :\n",
    "    second_data.append(eachline)\n",
    "  line+=1\n",
    "file.close()\n",
    "# every second average\n",
    "second_acc=[]\n",
    "second_size=[]\n",
    "for info in second_data:\n",
    "    info=info.split(\" \")\n",
    "    second_acc.append(info[2])\n",
    "    second_acc.append(info[5])\n",
    "    print(\"time: {0}, acc:{1}, size : {2}\".format(info[27].strip('\\n'),info[8],info[16]))\n",
    "loss=[]\n",
    "acc=[]\n",
    "V=[]\n",
    "index=0\n",
    "# 599 average\n",
    "for info in loss_data:\n",
    "    info=info.split(\" \")[4].split(\",\")\n",
    "    acc.append(float(info[1].split(\":\")[1]))\n",
    "    index+=1\n",
    "average_acc=np.mean(np.abs(np.array(acc)))\n",
    "print(\"Average Acc:{0}\".format(average_acc))\n",
    "index=0\n",
    "for info in V_data:\n",
    "    info=info.split(\",\")\n",
    "    V.append(float(info[-2].split(\":\")[1]))\n",
    "    index+=1\n",
    "average_V=np.mean(np.abs(np.array(V)))\n",
    "print(\"Average size:{0}\".format(average_V))"
   ]
  },
  {
   "cell_type": "code",
   "execution_count": 2,
   "metadata": {},
   "outputs": [
    {
     "name": "stdout",
     "output_type": "stream",
     "text": [
      "Average Acc:99.22580859240364\n",
      "Average size:1114.4455710018383\n"
     ]
    }
   ],
   "source": [
    "\n",
    "import numpy as np\n",
    "filename=\"H264/h264-qp=100.log\"\n",
    "file = open(filename, 'r')\n",
    "line=0\n",
    "loss_data=[]\n",
    "second_data=[]\n",
    "V_data=[]\n",
    "for eachline in file:\n",
    "  if line>3*34:\n",
    "    break\n",
    "  if eachline.find(\"Loss\") >= 0 and line>0:\n",
    "      loss_data.append(eachline)\n",
    "  if eachline.find(\"compressed size\") >= 0 and line>0:\n",
    "      V_data.append(eachline)\n",
    "  if eachline.find(\"Average Acc\") >=0 :\n",
    "    second_data.append(eachline)\n",
    "  line+=1\n",
    "file.close()\n",
    "# every second average\n",
    "second_acc=[]\n",
    "second_size=[]\n",
    "line=0\n",
    "for info in second_data:\n",
    "    info=info.split(\" \")\n",
    "    second_acc.append(info[2])\n",
    "    second_acc.append(info[5])\n",
    "    print(\"time: {0}, acc:{1}, size : {2}\".format(info[27].strip('\\n'),info[8],info[16]))\n",
    "loss=[]\n",
    "acc=[]\n",
    "V=[]\n",
    "index=0\n",
    "# 599 average\n",
    "for info in loss_data:\n",
    "    info=info.split(\" \")[4].split(\",\")\n",
    "    acc.append(float(info[1].split(\":\")[1]))\n",
    "    index+=1\n",
    "average_acc=np.mean(np.abs(np.array(acc)))\n",
    "print(\"Average Acc:{0}\".format(average_acc))\n",
    "index=0\n",
    "for info in V_data:\n",
    "    info=info.split(\",\")\n",
    "    V.append(float(info[-2].split(\":\")[1]))\n",
    "    index+=1\n",
    "average_V=np.mean(np.abs(np.array(V)))\n",
    "print(\"Average size:{0}\".format(average_V))"
   ]
  }
 ],
 "metadata": {
  "kernelspec": {
   "display_name": "Python 3.10.6 ('drn')",
   "language": "python",
   "name": "python3"
  },
  "language_info": {
   "codemirror_mode": {
    "name": "ipython",
    "version": 3
   },
   "file_extension": ".py",
   "mimetype": "text/x-python",
   "name": "python",
   "nbconvert_exporter": "python",
   "pygments_lexer": "ipython3",
   "version": "3.10.4"
  },
  "orig_nbformat": 4,
  "vscode": {
   "interpreter": {
    "hash": "2682e79027f8ad9e531b36c363c8bbb54c070afdbc5e8a43e40eaac174f86b9b"
   }
  }
 },
 "nbformat": 4,
 "nbformat_minor": 2
}
